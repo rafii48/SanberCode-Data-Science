{
 "cells": [
  {
   "cell_type": "markdown",
   "metadata": {
    "colab_type": "text",
    "id": "a9HYUdCUsrKl"
   },
   "source": [
    "<h2>Soal 1: Comparison Operator</h2>\n",
    "\n",
    "- Berikan contoh comparison dari tipe data string\n",
    "- Berikan contoh comparison dari tipe data boolean\n",
    "- Berikan contoh comparison dari tipe data integer"
   ]
  },
  {
   "cell_type": "code",
   "execution_count": 0,
   "metadata": {
    "colab": {},
    "colab_type": "code",
    "id": "lXMCHZ71srKp"
   },
   "outputs": [],
   "source": [
    "rajin = 'true'\n",
    "males = 'false'\n",
    "def akhlaq(saya):\n",
    "    true = saya\n",
    "    false = males\n",
    "    return true\n",
    "    return false\n",
    "    \n",
    "print(akhlaq(rajin))\n",
    "print(akhlaq(males))"
   ]
  },
  {
   "cell_type": "code",
   "execution_count": 2,
   "metadata": {},
   "outputs": [
    {
     "name": "stdout",
     "output_type": "stream",
     "text": [
      "apakah saya akan lulus ujian? True\n",
      "apakah saya akan lulus ujian? False\n"
     ]
    }
   ],
   "source": [
    "def lulus_ujian(nilai):\n",
    "    return nilai >= 75\n",
    "\n",
    "print(\"apakah saya akan lulus ujian?\", lulus_ujian(80))\n",
    "print(\"apakah saya akan lulus ujian?\", lulus_ujian(67))"
   ]
  },
  {
   "cell_type": "code",
   "execution_count": 3,
   "metadata": {},
   "outputs": [
    {
     "name": "stdout",
     "output_type": "stream",
     "text": [
      "[1, 4, 5] > = [3, 5, 7] False\n"
     ]
    }
   ],
   "source": [
    "#contoh comparison dari tipe data integer\n",
    "a = [1, 4, 5]\n",
    "b = [3, 5, 7]\n",
    "hasil = a >= b #comparing sum 'a' vs sum 'b' \n",
    "print(a,'>','=',b,hasil)"
   ]
  },
  {
   "cell_type": "markdown",
   "metadata": {
    "colab_type": "text",
    "id": "IbNoZvVssrK5"
   },
   "source": [
    "<h2>Soal 2: Boolean Comparison</h2>\n",
    "\n",
    "- Berikan contoh gabungan multiple comparison menggunkan Boolean Comparisin 'and'\n",
    "- Berikan contoh gabungan multiple comparison menggunkan Boolean Comparisin 'or'\n",
    "- Berikan contoh gabungan multiple comparison menggunkan Boolean Comparisin 'not'"
   ]
  },
  {
   "cell_type": "code",
   "execution_count": 1,
   "metadata": {
    "colab": {},
    "colab_type": "code",
    "id": "7eU1vPLCsrK7"
   },
   "outputs": [
    {
     "name": "stdout",
     "output_type": "stream",
     "text": [
      "saya jelek = False\n",
      "saya tamvan = True\n"
     ]
    }
   ],
   "source": [
    "jelek = False\n",
    "tamvan = not jelek\n",
    "\n",
    "print('saya jelek =',jelek)\n",
    "print('saya tamvan =',tamvan)"
   ]
  },
  {
   "cell_type": "code",
   "execution_count": 2,
   "metadata": {},
   "outputs": [
    {
     "name": "stdout",
     "output_type": "stream",
     "text": [
      "True OR False = True\n",
      "True OR True = True\n",
      "False OR False = False\n",
      "False OR True = True\n"
     ]
    }
   ],
   "source": [
    "tamvan = True\n",
    "jelek = False\n",
    "biasa = tamvan or jelek\n",
    "print(tamvan,'OR',jelek,'=',biasa)\n",
    "\n",
    "tamvan = True\n",
    "jelek = True\n",
    "biasa = tamvan or jelek\n",
    "print(tamvan,'OR',jelek,'=',biasa)\n",
    "\n",
    "tamvan = False\n",
    "jelek = False\n",
    "biasa = tamvan or jelek\n",
    "print(tamvan,'OR',jelek,'=',biasa)\n",
    "\n",
    "tamvan = False\n",
    "jelek = True\n",
    "biasa = tamvan or jelek\n",
    "print(tamvan,'OR',jelek,'=',biasa)"
   ]
  },
  {
   "cell_type": "code",
   "execution_count": 3,
   "metadata": {},
   "outputs": [
    {
     "name": "stdout",
     "output_type": "stream",
     "text": [
      "True AND False = False\n",
      "True AND True = True\n",
      "False AND False = False\n",
      "False AND True = False\n"
     ]
    }
   ],
   "source": [
    "tamvan = True\n",
    "jelek = False\n",
    "biasa = tamvan and jelek\n",
    "print(tamvan,'AND',jelek,'=',biasa)\n",
    "\n",
    "tamvan = True\n",
    "jelek = True\n",
    "biasa = tamvan and jelek\n",
    "print(tamvan,'AND',jelek,'=',biasa)\n",
    "\n",
    "tamvan = False\n",
    "jelek = False\n",
    "biasa = tamvan and jelek\n",
    "print(tamvan,'AND',jelek,'=',biasa)\n",
    "\n",
    "tamvan = False\n",
    "jelek = True\n",
    "biasa = tamvan and jelek\n",
    "print(tamvan,'AND',jelek,'=',biasa)"
   ]
  },
  {
   "cell_type": "markdown",
   "metadata": {
    "colab_type": "text",
    "id": "Yp_g_sPMsrLH"
   },
   "source": [
    "<h2>Soal 3: If-Else Statement</h2>\n",
    "\n",
    "Lengkapi kode untuk menghasilkan suatu output yang di harapkan\n",
    "\n",
    "- Bualah sebuah if-else statement yang dimana akan mem-print 'Besar' jika ruangan adalah 'Kamar' dan ukuran lebih dari 12, kemudian mem-print 'Sedang' jika ruangan adalah 'Kamar' dan ukuran lebih dari 6 dan memprint 'Kecil' jika ruangan adalah 'Kamar' dan ukuran ruangan lebih kecil dan sama dengan 6."
   ]
  },
  {
   "cell_type": "code",
   "execution_count": 1,
   "metadata": {
    "colab": {},
    "colab_type": "code",
    "id": "euRiRNupsrLK"
   },
   "outputs": [
    {
     "name": "stdout",
     "output_type": "stream",
     "text": [
      "Besar\n"
     ]
    }
   ],
   "source": [
    "ruangan = 'Kamar'\n",
    "size = 20\n",
    "\n",
    "if size > 12: \n",
    "    print('Besar')\n",
    "elif size > 6 :\n",
    "    print('Sedang')\n",
    "elif size <= 6:\n",
    "    print('Kecil')"
   ]
  },
  {
   "cell_type": "markdown",
   "metadata": {
    "colab_type": "text",
    "id": "IcoJXJT1srLW"
   },
   "source": [
    "<h2>Soal 4: Comparison Operator dengan fungsi</h2>\n",
    "\n",
    "Buatlah sebuah fungsi yang menerima satu argument bertipe data numeric dan menghasilkan sebuah return sebagai berikut :\n",
    "- menghasilkan return 'Aneh' jika nilai dari argument tersebut adalah bilangan ganjil\n",
    "- menghasilkan return 'Tidak Aneh' jika nilai dari argument tersebut adalah bilangan genap dan diantara nilai 2 sampai 5 (2 dan 5 termasuk)\n",
    "- menghasilkan return 'Aneh' jika nilai dari argument tersebut adalah bilangan genap dan diantara nilai 6 sampai 20 (6 dan 20 termasuk)\n",
    "- menghasilkan return 'Tidak Aneh' jika nilai dari argument tersebut adalah bilangan genap dan lebih besari dari 20"
   ]
  },
  {
   "cell_type": "code",
   "execution_count": 0,
   "metadata": {
    "colab": {},
    "colab_type": "code",
    "id": "g8F_qfEKsrLZ"
   },
   "outputs": [],
   "source": [
    "# Buat fungsi\n",
    "number = [1, 4, 5, 17, 20, 21] \n",
    "def aneh_list(inp_list):\n",
    "    aneh = ganjil\n",
    "    tidak_aneh = genap \n",
    "    \n",
    "    return aneh\n",
    "    return tidak_aneh\n",
    "    \n",
    "print(aneh_list(number))"
   ]
  },
  {
   "cell_type": "markdown",
   "metadata": {
    "colab_type": "text",
    "id": "gf0D64xOsrLl"
   },
   "source": [
    "<h2>Soal 5: While Loop dan For Loop</h2>\n",
    "\n",
    "- Apa perbedaan while loop dan for loop?\n",
    "- Berikan contoh sederhana cara menggunakan while loop dan for loop"
   ]
  },
  {
   "cell_type": "code",
   "execution_count": 0,
   "metadata": {
    "colab": {},
    "colab_type": "code",
    "id": "l7KIgpjHsrLo"
   },
   "outputs": [],
   "source": [
    "#perbedaan while and for loop\n",
    "#For loop untuk melakukan command pengulangan yang sama dan berdaasar pada jumlah kompone, sementara\n",
    "#while loop melakukan perulangan selama kondisi pada while loop tersebut benar.\n"
   ]
  },
  {
   "cell_type": "code",
   "execution_count": 4,
   "metadata": {},
   "outputs": [
    {
     "name": "stdout",
     "output_type": "stream",
     "text": [
      "kalau saya kaya saya punya rumah\n",
      "kalau saya kaya saya punya mobil\n",
      "kalau saya kaya saya punya wanita\n"
     ]
    }
   ],
   "source": [
    "kaya = ['rumah','mobil','wanita']\n",
    "for harta in kaya:\n",
    "    print('kalau saya kaya saya punya ' + harta )"
   ]
  },
  {
   "cell_type": "code",
   "execution_count": null,
   "metadata": {},
   "outputs": [],
   "source": [
    "jumlah_lantai = 46\n",
    "while jumlah_lantai >=30:\n",
    "    print(jumlah_lantai)\n",
    "    jumlah_lantai -=1"
   ]
  },
  {
   "cell_type": "markdown",
   "metadata": {
    "colab_type": "text",
    "id": "fZQpBGCgsrLz"
   },
   "source": [
    "<h2>Soal 6: While Loop</h2>\n",
    "    \n",
    "Buatlah sebuah code while loop sebagai berikut :\n",
    "- Buatlah suatu fungsi yang merima satu input nilai numeric\n",
    "- Dalam fungsi, Buat sebuah while-loop dengan melakukan comparasi terhadap inputan tersebut, dimana looping/iterasi terus berjalan apabila nilai inputan tidak sama dengan 0\n",
    "- Dalam setiap iterasi update nilai variable inputan itu, jika input lebih dari 0, maka kurangi variabel tersebut sebesar 1, selain itu tambahkan 1\n",
    "- print nilai variable input dalam setiap awal iterasi"
   ]
  },
  {
   "cell_type": "code",
   "execution_count": null,
   "metadata": {
    "colab": {},
    "colab_type": "code",
    "id": "yOiqjrU2srL1"
   },
   "outputs": [],
   "source": [
    "a = 10\n",
    "while a <= 10:\n",
    "    print(a)\n",
    "    a-=1"
   ]
  },
  {
   "cell_type": "markdown",
   "metadata": {
    "colab_type": "text",
    "id": "lKzngRrlsrMD"
   },
   "source": [
    "Expected Output:\n",
    "\n",
    "10\n",
    "\n",
    "9\n",
    "\n",
    "8\n",
    "\n",
    "7\n",
    "\n",
    "6\n",
    "\n",
    "5\n",
    "\n",
    "4\n",
    "\n",
    "3\n",
    "\n",
    "2\n",
    "\n",
    "1"
   ]
  },
  {
   "cell_type": "markdown",
   "metadata": {
    "colab_type": "text",
    "id": "IWg3Z_zZsrMG"
   },
   "source": [
    "<h2>Soal 7: For Loop</h2>\n",
    "    \n",
    "Lengkapi kode untuk menghasilkan suatu output yang di harapkan:\n",
    "\n",
    "- Buatlah sebuah loop dengan mengiterasi sebuah objek list kemudian di kalikan dengan index dari list tersebut dan print hasilnya"
   ]
  },
  {
   "cell_type": "code",
   "execution_count": 0,
   "metadata": {
    "colab": {},
    "colab_type": "code",
    "id": "_Jl5i7WKsrMI"
   },
   "outputs": [],
   "source": [
    "obj_list= [1, 16, 11, 10, 5]\n",
    "\n",
    "# lengkapi code di bawah\n",
    "for ..... in .......(obj_list):\n",
    "    ...........\n"
   ]
  },
  {
   "cell_type": "markdown",
   "metadata": {
    "colab_type": "text",
    "id": "OGawROjnsrMU"
   },
   "source": [
    "Expected Output:\n",
    "\n",
    "0\n",
    "\n",
    "16\n",
    "\n",
    "22\n",
    "\n",
    "30\n",
    "\n",
    "20\n"
   ]
  }
 ],
 "metadata": {
  "colab": {
   "name": "Tugas Hari 4.ipynb",
   "provenance": []
  },
  "kernelspec": {
   "display_name": "Python 3",
   "language": "python",
   "name": "python3"
  },
  "language_info": {
   "codemirror_mode": {
    "name": "ipython",
    "version": 3
   },
   "file_extension": ".py",
   "mimetype": "text/x-python",
   "name": "python",
   "nbconvert_exporter": "python",
   "pygments_lexer": "ipython3",
   "version": "3.7.4"
  }
 },
 "nbformat": 4,
 "nbformat_minor": 1
}
